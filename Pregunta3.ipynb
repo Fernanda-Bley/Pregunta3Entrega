{
 "cells": [
  {
   "cell_type": "markdown",
   "metadata": {},
   "source": [
    "![Portada Pregunta 3](Pregunta_3_Imagen.png)"
   ]
  },
  {
   "cell_type": "markdown",
   "metadata": {},
   "source": [
    "Considere que, apoyándose en el desarrollo de la Ciencia de Datos y la Optimización avanzada, usted desea\n",
    "conformar un nuevo equipo de fútbol. Para esto, usted ha logrado recopilar información sobre 325 futbolistas.\n",
    "Esta información corresponde a la valoración que se tiene, para cada uno de ellos, de las 4 posiciones en\n",
    "el campo de juego: Arquero, Defensa, Mediocampista y Delantero; y al precio de contratar a ese jugador.\n",
    "Esta valoración está medida en un coeficiente que va desde el 0 al 100, donde el 100 es la mayor valoración.\n",
    "Además, cuanta con la información de qué jugadores no debeŕıan compartir equipo con qué jugadores. Esta\n",
    "información está clasificada como 0 (pueden compartir equipo), 1 (conflicto 1: preferentemente no debeŕıan\n",
    "compartir equipo) y 2 (conflicto 2: no debeŕıan compartir equipo). Toda esta información se encuentra en el\n",
    "archivo Datos.xls, en la hojas Caracteŕısticas y Conflictos.\n",
    "\n",
    "Basado en esta información, se le pide conformar un equipo con la mayor valoración posible que cuente con\n",
    "33 jugadores (no se puede contratar a un jugador en más de una posición), de los cuales 3 son Arqueros, 10\n",
    "Defensas, 12 son Mediocampistas y 8 son Delanteros, y que se limite por el presupuesto disponible, que es de\n",
    "22000 pesos. Para esto, usted sabe que cada jugador de la lista puede ser contratado en cualquier de las 4\n",
    "posiciones, que la valoración total del equipo es la suma de las valoraciones individuales de la posición escogida\n",
    "para cada jugador contratado, y que el costo total de la plantilla de jugadores es la suma de los precios de\n",
    "contratación de todos los jugadores contratados."
   ]
  },
  {
   "cell_type": "markdown",
   "metadata": {},
   "source": [
    "#### Nota; este proyecto ocupa NumPy, Pandas y Gurobi. Si no tiene alguno de estos corra la siguiente celda para instalarlos. De no ser así se puede saltar la celda. "
   ]
  },
  {
   "cell_type": "code",
   "execution_count": 1,
   "metadata": {},
   "outputs": [
    {
     "name": "stdout",
     "output_type": "stream",
     "text": [
      "Requirement already satisfied: numpy in /home/codespace/.local/lib/python3.10/site-packages (1.26.1)\n",
      "Requirement already satisfied: pandas in /home/codespace/.local/lib/python3.10/site-packages (2.1.2)\n",
      "Requirement already satisfied: numpy<2,>=1.22.4 in /home/codespace/.local/lib/python3.10/site-packages (from pandas) (1.26.1)\n",
      "Requirement already satisfied: python-dateutil>=2.8.2 in /home/codespace/.local/lib/python3.10/site-packages (from pandas) (2.8.2)\n",
      "Requirement already satisfied: pytz>=2020.1 in /home/codespace/.local/lib/python3.10/site-packages (from pandas) (2023.3.post1)\n",
      "Requirement already satisfied: tzdata>=2022.1 in /home/codespace/.local/lib/python3.10/site-packages (from pandas) (2023.3)\n",
      "Requirement already satisfied: six>=1.5 in /home/codespace/.local/lib/python3.10/site-packages (from python-dateutil>=2.8.2->pandas) (1.16.0)\n",
      "Requirement already satisfied: gurobipy in /usr/local/python/3.10.8/lib/python3.10/site-packages (10.0.3)\n"
     ]
    }
   ],
   "source": [
    "!pip install numpy\n",
    "!pip install pandas\n",
    "!pip install gurobipy\n"
   ]
  },
  {
   "cell_type": "markdown",
   "metadata": {},
   "source": [
    "*(a) (10 puntos) Diseñe un algoritmo, prográmelo y ejecútelo en Python, para seleccionar aleatoriamente jugadores a cada una de las 33 posiciones requeridas sin sobrepasar el presupuesto disponible. Registre la solución en: jugadores seleccionados y su posición, valoración total del equipo, total de conflictos (separados en conflictos 1 y conflictos 2) y listados de casos (jugadores en cada conflicto), y el costo total de la plantilla. Una vez diseñado este algoritmo, ejecútelo 1000 veces, y entregue la solución que tiene menos puntaje en conflictos (sume 1 punto a cada conflicto 1 y 5 puntos a cada conflicto 2). En caso de que haya más de una solución con el mismo puntaje en conflictos, escoja aquella que tenga mayor valoración total.*"
   ]
  },
  {
   "cell_type": "code",
   "execution_count": 2,
   "metadata": {},
   "outputs": [],
   "source": [
    "import random\n",
    "import pandas as pd\n",
    "import time"
   ]
  },
  {
   "cell_type": "code",
   "execution_count": 3,
   "metadata": {},
   "outputs": [],
   "source": [
    "## Definimos variables \n",
    "# Número de jugadores\n",
    "num_jugadores = 325\n",
    "\n",
    "# Número de posiciones\n",
    "num_posiciones = 4\n",
    "\n",
    "# Número de jugadores por posición\n",
    "num_arqueros = 3\n",
    "num_defensas = 10\n",
    "num_mediocampistas = 12\n",
    "num_delanteros = 8\n",
    "\n",
    "# Presupuesto disponible\n",
    "presupuesto = 22000\n",
    "\n",
    "datos = pd.read_excel(\"Datos.xlsx\", sheet_name=\"Características\")\n",
    "conflictos = pd.read_excel(\"Datos.xlsx\", sheet_name=\"Conflictos\")"
   ]
  },
  {
   "cell_type": "code",
   "execution_count": 4,
   "metadata": {},
   "outputs": [],
   "source": [
    "def seleccionar_equipo(jugadores, conflictos, presupuesto_disponible):\n",
    "    arqueros = []\n",
    "    defensas = []\n",
    "    mediocampistas = []\n",
    "    delanteros = []\n",
    "    equipo_total = []\n",
    "    equipo_total_index = []\n",
    "    costo_total = 0\n",
    "    valoracion_total = 0\n",
    "    for _ in range(3):\n",
    "        jugadores_arqueros = jugadores[['Nombre', 'Arquero', 'Costo']]\n",
    "        jugador_aleatorio = jugadores_arqueros.sample(n=1).iloc[0]\n",
    "        if jugador_aleatorio['Nombre']  not in arqueros and costo_total + jugador_aleatorio['Costo'] <= presupuesto_disponible:\n",
    "            arqueros.append(jugador_aleatorio['Nombre'])\n",
    "            equipo_total.append(jugador_aleatorio['Nombre'])\n",
    "            equipo_total_index.append(jugadores[jugadores['Nombre'] == jugador_aleatorio['Nombre']].index[0])\n",
    "            valoracion_total += jugador_aleatorio['Arquero'] \n",
    "            costo_total += jugador_aleatorio['Costo']\n",
    "    for _ in range(10):\n",
    "        jugadores_defensor = jugadores[['Nombre', 'Defensa', 'Costo']]\n",
    "        jugador_aleatorio = jugadores_defensor.sample(n=1).iloc[0]\n",
    "        if jugador_aleatorio['Nombre'] not in defensas and costo_total + jugador_aleatorio['Costo'] <= presupuesto_disponible:\n",
    "            defensas.append(jugador_aleatorio['Nombre'])\n",
    "            equipo_total.append(jugador_aleatorio['Nombre'])\n",
    "            equipo_total_index.append(jugadores[jugadores['Nombre'] == jugador_aleatorio['Nombre']].index[0])\n",
    "            valoracion_total += jugador_aleatorio['Defensa'] \n",
    "            costo_total += jugador_aleatorio['Costo']\n",
    "    for _ in range(12):\n",
    "        jugadores_mediocampista = jugadores[['Nombre', 'Mediocampista', 'Costo']]\n",
    "        jugador_aleatorio = jugadores_mediocampista.sample(n=1).iloc[0]\n",
    "        if jugador_aleatorio['Nombre']  not in mediocampistas and costo_total + jugador_aleatorio['Costo'] <= presupuesto_disponible:\n",
    "            mediocampistas.append(jugador_aleatorio['Nombre'])\n",
    "            equipo_total.append(jugador_aleatorio['Nombre'])\n",
    "            equipo_total_index.append(jugadores[jugadores['Nombre'] == jugador_aleatorio['Nombre']].index[0])\n",
    "            valoracion_total += jugador_aleatorio['Mediocampista'] \n",
    "            costo_total += jugador_aleatorio['Costo']\n",
    "    for _ in range(8):\n",
    "        jugadores_delantero = jugadores[['Nombre', 'Delantero', 'Costo']]\n",
    "        jugador_aleatorio = jugadores_delantero.sample(n=1).iloc[0]\n",
    "        if jugador_aleatorio['Nombre']  not in delanteros and costo_total + jugador_aleatorio['Costo'] <= presupuesto_disponible:\n",
    "            delanteros.append(jugador_aleatorio['Nombre'])\n",
    "            equipo_total.append(jugador_aleatorio['Nombre'])\n",
    "            equipo_total_index.append(jugadores[jugadores['Nombre'] == jugador_aleatorio['Nombre']].index[0])\n",
    "            valoracion_total += jugador_aleatorio['Delantero'] \n",
    "            costo_total += jugador_aleatorio['Costo']\n",
    "    conflictos_resultantes = {}\n",
    "    for i in equipo_total:\n",
    "        jugador_1 = i\n",
    "        for j in equipo_total_index:\n",
    "            jugador_2 = j\n",
    "            if conflictos.at[jugador_2, jugador_1] == 1:\n",
    "                conflictos_resultantes[(jugador_1, jugador_2)] = \"quizas\"\n",
    "            elif conflictos.at[jugador_2, jugador_1] == 1 == 2:\n",
    "                conflictos_resultantes[(jugador_1, jugador_2)] = \"no\"\n",
    "            else:\n",
    "                conflictos_resultantes[(jugador_1, jugador_2)] = \"si\"\n",
    "\n",
    "\n",
    "    \n",
    "    return {\"MejorEquipo\": {\n",
    "        \"Arqueros\": arqueros,\n",
    "        \"Defensas\": defensas,\n",
    "        \"Mediocampistas\": mediocampistas,\n",
    "        \"Delanteros\": delanteros\n",
    "        }, \n",
    "    \"Valoracion\": valoracion_total, \"Costo\": costo_total, \"Conflictos\": conflictos_resultantes}"
   ]
  },
  {
   "cell_type": "code",
   "execution_count": 5,
   "metadata": {},
   "outputs": [],
   "source": [
    "#Se demora aproximadamente 40 segundos en correr, por favor tengan paciencia\n",
    "start_time_1_1 = time.time()\n",
    "equipos_generados = []\n",
    "for _ in range(1000):\n",
    "    equipo = seleccionar_equipo(datos, conflictos, presupuesto)\n",
    "    equipos_generados.append(equipo)\n",
    "end_time_1_1 = time.time()"
   ]
  },
  {
   "cell_type": "code",
   "execution_count": 6,
   "metadata": {},
   "outputs": [],
   "source": [
    "start_time_1_2 = time.time()\n",
    "mejor_solucion = min(equipos_generados, key=lambda x: (x['Costo'] - x['Valoracion'] + sum(1000 if tipo == \"quizas\" else 0 for tipo in x['Conflictos'].values())\n",
    "        -+ sum(5000000000000000 if tipo == \"no\" else 0 for tipo in x['Conflictos'].values())\n",
    "))\n",
    "end_time_1_2 = time.time()\n",
    "duration_1 = (end_time_1_1 + end_time_1_2) - (start_time_1_1)"
   ]
  },
  {
   "cell_type": "code",
   "execution_count": 7,
   "metadata": {},
   "outputs": [
    {
     "name": "stdout",
     "output_type": "stream",
     "text": [
      "Jugadores seleccionados:\n",
      "    Arqueros: ['Jugador 201', 'Jugador 150', 'Jugador 288']\n",
      "    Defensas: ['Jugador 86', 'Jugador 55', 'Jugador 178', 'Jugador 206', 'Jugador 230', 'Jugador 134', 'Jugador 208', 'Jugador 321', 'Jugador 166', 'Jugador 252']\n",
      "    Mediocampistas: ['Jugador 214', 'Jugador 271', 'Jugador 21', 'Jugador 277', 'Jugador 31', 'Jugador 319', 'Jugador 166', 'Jugador 49', 'Jugador 288', 'Jugador 34', 'Jugador 8']\n",
      "    Delanteros: ['Jugador 138', 'Jugador 49', 'Jugador 28', 'Jugador 166', 'Jugador 291', 'Jugador 200', 'Jugador 103', 'Jugador 319']\n",
      "Valoración total del equipo: 1655\n",
      "Costo total de la plantilla: 21873\n",
      "Conflictos: \n",
      "  Tipo 1: 93 \n",
      "  Tipo 2: 0\n"
     ]
    }
   ],
   "source": [
    "print(\"Jugadores seleccionados:\")\n",
    "for j in [\"Arqueros\", \"Defensas\", \"Mediocampistas\", \"Delanteros\"]:\n",
    "    print(f\"    {j}: {mejor_solucion['MejorEquipo'][j]}\")\n",
    "print(f\"Valoración total del equipo: {mejor_solucion['Valoracion']}\")\n",
    "print(f\"Costo total de la plantilla: {mejor_solucion['Costo']}\")\n",
    "#Contamos conflictos\n",
    "conflictos_tipo_1 = sum(1 for value in mejor_solucion['Conflictos'].values() if value == 'quizas')\n",
    "conflictos_tipo_2 = sum(1 for value in mejor_solucion['Conflictos'].values() if value == 'no')\n",
    "\n",
    "\n",
    "print(f\"Conflictos: \\n  Tipo 1: {conflictos_tipo_1} \\n  Tipo 2: {conflictos_tipo_2}\")"
   ]
  },
  {
   "cell_type": "markdown",
   "metadata": {},
   "source": [
    "\n",
    "*(b) (10 puntos) Diseñe un modelo de optimización lineal en variables binarias, prográmelo y resuélvalo en Python/GUROBI, para encontrar la conformación de la plantilla de jugadores (33 posiciones), garantizando que no existan conflictos y que no se sobrepasa el presupuesto disponible. Compare esta solución con la obtenida en la parte (a).*"
   ]
  },
  {
   "cell_type": "code",
   "execution_count": 8,
   "metadata": {},
   "outputs": [
    {
     "name": "stdout",
     "output_type": "stream",
     "text": [
      "Restricted license - for non-production use only - expires 2024-10-28\n",
      "No parameters matching 'CloudAPIKey' found\n"
     ]
    }
   ],
   "source": [
    "#información retirada por una conversación con ChatGPT prompt: \"¿Cómo incluyo en mi codigo el API key [Numero de Key] para Gurobi?\" \n",
    "from gurobipy import *\n",
    "import pandas as pd\n",
    "import time\n",
    "import numpy as np\n",
    "Env().setParam('CloudAPIKey', '52088e4e-6c08-4d26-96be-91bdd29abd59')"
   ]
  },
  {
   "cell_type": "code",
   "execution_count": 9,
   "metadata": {},
   "outputs": [
    {
     "name": "stdout",
     "output_type": "stream",
     "text": [
      "Restricted license - for non-production use only - expires 2024-10-28\n"
     ]
    }
   ],
   "source": [
    "#Linea tomada de ayudantias\n",
    "modelo = Model(\"modelo_futbol\")"
   ]
  },
  {
   "cell_type": "code",
   "execution_count": 10,
   "metadata": {},
   "outputs": [],
   "source": [
    "## Definimos variables \n",
    "# Número de jugadores\n",
    "num_jugadores = 325\n",
    "\n",
    "# Número de posiciones\n",
    "num_posiciones = 4\n",
    "\n",
    "# Número de jugadores por posición\n",
    "num_arqueros = 3\n",
    "num_defensas = 10\n",
    "num_mediocampistas = 12\n",
    "num_delanteros = 8\n",
    "\n",
    "# Presupuesto disponible\n",
    "presupuesto = 22000\n",
    "\n",
    "datos = pd.read_excel(\"Datos.xlsx\", sheet_name=\"Características\")\n",
    "conflictos = pd.read_excel(\"Datos.xlsx\", sheet_name=\"Conflictos\")"
   ]
  },
  {
   "cell_type": "code",
   "execution_count": 11,
   "metadata": {},
   "outputs": [],
   "source": [
    "#Variables de desición definidas\n",
    "\n",
    "var_desicion = {}\n",
    "for i in range(num_jugadores):\n",
    "    for j in [\"Arquero\", \"Defensa\", \"Mediocampista\", \"Delantero\"]:\n",
    "        var_desicion[i, j] = modelo.addVar(vtype=GRB.BINARY, lb=0, name=f\"x-{i}-{j}\")\n",
    "#Funcion Objetivo\n",
    "modelo.setObjective(\n",
    "    quicksum(\n",
    "        datos.loc[i, \"Arquero\"] * var_desicion[i, \"Arquero\"] +\n",
    "        datos.loc[i, \"Defensa\"] * var_desicion[i, \"Defensa\"] +\n",
    "        datos.loc[i, \"Mediocampista\"] * var_desicion[i, \"Mediocampista\"] +\n",
    "        datos.loc[i, \"Delantero\"] * var_desicion[i, \"Delantero\"]\n",
    "        for i in range(num_jugadores)\n",
    "    ),\n",
    "    GRB.MAXIMIZE\n",
    ")\n",
    "\n",
    "#Restricciones\n",
    "\n",
    "modelo.addConstrs(\n",
    "    quicksum(var_desicion[i, \"Arquero\"] for i in range(num_jugadores)) == num_arqueros\n",
    "    for j in range(num_posiciones)\n",
    ")\n",
    "modelo.addConstrs(\n",
    "    quicksum(var_desicion[i, \"Defensa\"] for i in range(num_jugadores)) == num_defensas\n",
    "    for j in range(num_posiciones)\n",
    ")\n",
    "modelo.addConstrs(\n",
    "    quicksum(var_desicion[i, \"Mediocampista\"] for i in range(num_jugadores)) == num_mediocampistas\n",
    "    for j in range(num_posiciones)\n",
    ")\n",
    "modelo.addConstrs(\n",
    "    quicksum(var_desicion[i, \"Delantero\"] for i in range(num_jugadores)) == num_delanteros\n",
    "    for j in range(num_posiciones)\n",
    ")\n",
    "num_conflictos_total = modelo.addVar(vtype=GRB.INTEGER, lb=0, name=\"num_conflictos_total\")\n",
    "for i in range(num_jugadores):\n",
    "    for j in range(i+1, num_jugadores):\n",
    "        if not np.isnan(conflictos.at[i, f\"Jugador {j}\"]):\n",
    "            if conflictos[i, j] == 1:\n",
    "                modelo.addConstr(var_desicion[i, \"Arquero\"] + var_desicion[j, \"Arquero\"] <= 1)\n",
    "                modelo.addConstr(var_desicion[i, \"Defensa\"] + var_desicion[j, \"Defensa\"] <= 1)\n",
    "                modelo.addConstr(var_desicion[i, \"Mediocampista\"] + var_desicion[j, \"Mediocampista\"] <= 1)\n",
    "                modelo.addConstr(var_desicion[i, \"Delantero\"] + var_desicion[j, \"Delantero\"] <= 1)\n",
    "                modelo.addConstr(num_conflictos_total + 1 == num_conflictos_total)\n",
    "            elif conflictos[i, j] == 2:\n",
    "                modelo.addConstr(var_desicion[i, \"Arquero\"] + var_desicion[j, \"Arquero\"] <= 1)\n",
    "                modelo.addConstr(var_desicion[i, \"Defensa\"] + var_desicion[j, \"Defensa\"] <= 1)\n",
    "                modelo.addConstr(var_desicion[i, \"Mediocampista\"] + var_desicion[j, \"Mediocampista\"] <= 1)\n",
    "                modelo.addConstr(var_desicion[i, \"Delantero\"] + var_desicion[j, \"Delantero\"] <= 1)\n",
    "                modelo.addConstr(num_conflictos_total + 1 == num_conflictos_total)\n"
   ]
  },
  {
   "cell_type": "code",
   "execution_count": 12,
   "metadata": {},
   "outputs": [
    {
     "name": "stdout",
     "output_type": "stream",
     "text": [
      "Gurobi Optimizer version 10.0.3 build v10.0.3rc0 (linux64)\n",
      "\n",
      "CPU model: AMD EPYC 7763 64-Core Processor, instruction set [SSE2|AVX|AVX2]\n",
      "Thread count: 1 physical cores, 2 logical processors, using up to 2 threads\n",
      "\n",
      "Optimize a model with 16 rows, 1301 columns and 5200 nonzeros\n",
      "Model fingerprint: 0x774b0865\n",
      "Variable types: 0 continuous, 1301 integer (1300 binary)\n",
      "Coefficient statistics:\n",
      "  Matrix range     [1e+00, 1e+00]\n",
      "  Objective range  [1e+00, 1e+02]\n",
      "  Bounds range     [1e+00, 1e+00]\n",
      "  RHS range        [3e+00, 1e+01]\n",
      "Found heuristic solution: objective 1695.0000000\n",
      "Presolve removed 15 rows and 1200 columns\n",
      "Presolve time: 0.00s\n",
      "Presolved: 1 rows, 101 columns, 101 nonzeros\n",
      "Found heuristic solution: objective 3223.0000000\n",
      "Variable types: 0 continuous, 101 integer (12 binary)\n",
      "Found heuristic solution: objective 3235.0000000\n",
      "\n",
      "Root relaxation: objective 3.245000e+03, 1 iterations, 0.00 seconds (0.00 work units)\n",
      "\n",
      "    Nodes    |    Current Node    |     Objective Bounds      |     Work\n",
      " Expl Unexpl |  Obj  Depth IntInf | Incumbent    BestBd   Gap | It/Node Time\n",
      "\n",
      "*    0     0               0    3245.0000000 3245.00000  0.00%     -    0s\n",
      "\n",
      "Explored 1 nodes (1 simplex iterations) in 0.02 seconds (0.00 work units)\n",
      "Thread count was 2 (of 2 available processors)\n",
      "\n",
      "Solution count 4: 3245 3235 3223 1695 \n",
      "\n",
      "Optimal solution found (tolerance 1.00e-04)\n",
      "Best objective 3.245000000000e+03, best bound 3.245000000000e+03, gap 0.0000%\n"
     ]
    }
   ],
   "source": [
    "#Respuesta óptima\n",
    "start_time_2 = time.time()\n",
    "modelo.optimize()\n",
    "end_time_2 = time.time()\n",
    "duration_2 = end_time_2 - start_time_2"
   ]
  },
  {
   "cell_type": "code",
   "execution_count": 13,
   "metadata": {},
   "outputs": [
    {
     "name": "stdout",
     "output_type": "stream",
     "text": [
      "Jugadores seleccionados:\n",
      "    Posición Arquero: [177, 245, 298]\n",
      "    Posición Defensa: [15, 26, 31, 50, 68, 70, 166, 306, 322, 323]\n",
      "    Posición Mediocampista: [10, 94, 105, 128, 159, 161, 162, 197, 243, 281, 288, 315]\n",
      "    Posición Delantero: [19, 49, 76, 83, 150, 155, 178, 206]\n",
      "Valoración total del equipo: 3245.0\n",
      "Costo total de la plantilla: 33 pesos\n",
      "Número total de conflictos en el mejor caso: 0\n"
     ]
    }
   ],
   "source": [
    "#Creamos combinación óptima de calificaciones\n",
    "clasificaciones = {}\n",
    "#Iteramos por las mejores respuestas\n",
    "for j in [\"Arquero\", \"Defensa\", \"Mediocampista\", \"Delantero\"]:\n",
    "    clasificaciones[j] = []\n",
    "if modelo.status == GRB.OPTIMAL:\n",
    "    print(\"Jugadores seleccionados:\")\n",
    "    for i in range(num_jugadores):\n",
    "        for j in [\"Arquero\", \"Defensa\", \"Mediocampista\", \"Delantero\"]:\n",
    "            if var_desicion[i, j].x > 0.5:\n",
    "                clasificaciones[j].append(i)\n",
    "    for j in [\"Arquero\", \"Defensa\", \"Mediocampista\", \"Delantero\"]:\n",
    "        print(f\"    Posición {j}: {clasificaciones[j]}\")\n",
    "    costo_2_expr = modelo.getAttr('X', var_desicion).sum()\n",
    "    costo_2 = int(costo_2_expr.getValue())\n",
    "    print(f\"Valoración total del equipo: {modelo.objVal}\")\n",
    "    print(f\"Costo total de la plantilla: {costo_2} pesos\")\n",
    "    print(f\"Número total de conflictos en el mejor caso: {int(num_conflictos_total.x)}\")\n",
    "else:\n",
    "    print(\"No se encontró una solución óptima.\")"
   ]
  },
  {
   "cell_type": "markdown",
   "metadata": {},
   "source": [
    "### Comparaciones y conclusiones"
   ]
  },
  {
   "cell_type": "code",
   "execution_count": 14,
   "metadata": {},
   "outputs": [],
   "source": [
    "import re\n",
    "arqueros_1 = mejor_solucion['MejorEquipo'][\"Arqueros\"]\n",
    "defensa_1 = mejor_solucion['MejorEquipo'][\"Defensas\"]\n",
    "mediocampo_1 = mejor_solucion['MejorEquipo'][\"Mediocampistas\"]\n",
    "delanteros_1 = mejor_solucion['MejorEquipo'][\"Delanteros\"]\n",
    "conflictos_tipo_1_1 = sum(1 for value in mejor_solucion['Conflictos'].values() if value == 'quizas')\n",
    "conflictos_tipo_2_1 = sum(1 for value in mejor_solucion['Conflictos'].values() if value == 'no')\n",
    "valor_1 = mejor_solucion['Valoracion']\n",
    "costo_1 = mejor_solucion['Costo']\n",
    "conflictos_total_1 = conflictos_tipo_1 + conflictos_tipo_2\n",
    "conflictos_total_2 = int(num_conflictos_total.x)\n",
    "\n",
    "if modelo.status == GRB.OPTIMAL:\n",
    "    arqueros_2 = clasificaciones[\"Arquero\"]\n",
    "    defensa_2 = clasificaciones[\"Defensa\"]\n",
    "    mediocampo_2 = clasificaciones[\"Mediocampista\"]\n",
    "    delanteros_2 = clasificaciones[\"Delantero\"]\n",
    "    valoracion_2 = modelo.objVal\n",
    "\n",
    "    #Comparamos variables\n",
    "    arqueros_comun = 0\n",
    "    delanteros_comun = 0\n",
    "    defensa_comun = 0\n",
    "    mediocampo_comun = 0\n",
    "\n",
    "    for x, y in zip(arqueros_1, arqueros_2):\n",
    "        num_x = int(re.findall(\"\\d+\", x)[0])\n",
    "        if num_x == y:\n",
    "            arqueros_comun += 1\n",
    "    for x, y in zip(delanteros_1, delanteros_1):\n",
    "        num_x = int(re.findall(\"\\d+\", x)[0])\n",
    "        if num_x == y:\n",
    "            delanteros_comun += 1\n",
    "    for x, y in zip(defensa_1, defensa_2):\n",
    "        num_x = int(re.findall(\"\\d+\", x)[0])\n",
    "        if num_x == y:\n",
    "            defensa_comun += 1\n",
    "    for x, y in zip(mediocampo_1, mediocampo_2):\n",
    "        num_x = int(re.findall(\"\\d+\", x)[0])\n",
    "        if num_x == y:\n",
    "            mediocampo_comun += 1\n",
    "    "
   ]
  },
  {
   "cell_type": "code",
   "execution_count": 17,
   "metadata": {},
   "outputs": [
    {
     "name": "stdout",
     "output_type": "stream",
     "text": [
      "Considencias entre los equipos: \n",
      "   Arqueros en común: 0\n",
      "   Delanteros en común: 0\n",
      "   Defensas en común: 0\n",
      "   Mediocampos en común:0\n",
      "Comparaciones entre los equipos y optimización:\n",
      " El equipo formado en (b) da mejor valor total\n",
      " El equipo formado en (b) tiene menor costo\n",
      " El equipo formado en (b) tiene menos conflictos\n",
      " Optimizar el problema demora menos en (b)\n",
      "Por lo tanto, concluimos que: \n",
      " Es mejor usar la estrategia (b)\n"
     ]
    }
   ],
   "source": [
    "if modelo.status == GRB.OPTIMAL:\n",
    "#Equipos formados\n",
    "    print(\"Considencias entre los equipos: \")\n",
    "    print(f\"   Arqueros en común: {arqueros_comun}\\n   Delanteros en común: {delanteros_comun}\\n   Defensas en común: {defensa_comun}\\n   Mediocampos en común:{mediocampo_comun}\")\n",
    "    \n",
    "    \n",
    "    print(\"Comparaciones entre los equipos y optimización:\")\n",
    "    #Valoración\n",
    "    gana = {\"a\": 0, \"b\": 0}\n",
    "    if valor_1 > valoracion_2:\n",
    "        print(\" El equipo formado en (a) da mejor valor total\")\n",
    "        gana[\"a\"] += 1\n",
    "    else:\n",
    "        print(\" El equipo formado en (b) da mejor valor total\")\n",
    "        gana[\"b\"] += 1\n",
    "    #Costos\n",
    "    integer_value = int(costo_2)\n",
    "    if costo_2 > costo_1:\n",
    "        print(\" El equipo formado en (a) tiene menor costo\")\n",
    "        gana[\"a\"] += 1\n",
    "    else:\n",
    "        print(\" El equipo formado en (b) tiene menor costo\")\n",
    "        gana[\"b\"] += 1\n",
    "    #Conflictos\n",
    "    if conflictos_total_1 > conflictos_total_2:\n",
    "        print(\" El equipo formado en (b) tiene menos conflictos\")\n",
    "        gana[\"b\"] += 1\n",
    "    else:\n",
    "        print(\" El equipo formado en (a) tiene menos conflictos\")\n",
    "        gana[\"a\"] += 1\n",
    "    # Tiempo\n",
    "    if duration_1 > duration_2:\n",
    "        print(\" Optimizar el problema demora menos en (b)\")\n",
    "        gana[\"b\"] += 1\n",
    "    else:\n",
    "        print(\" Optimizar el problema demora menos en (a)\")\n",
    "        gana[\"a\"] += 1\n",
    "    #Conclusión\n",
    "    print(\"Por lo tanto, concluimos que: \")\n",
    "    if gana[\"a\"]  > gana[\"b\"]:\n",
    "        print(\" Es mejor usar la estrategia (a)\")\n",
    "    elif gana[\"b\"] > gana[\"a\"]:\n",
    "        print(\" Es mejor usar la estrategia (b)\")\n",
    "    else:\n",
    "        print(\" Es igual usar (a) o (b)\")\n",
    "\n",
    "else: \n",
    "    print(\"No se pueden comparar porque algo falló en (b)\")\n"
   ]
  }
 ],
 "metadata": {
  "kernelspec": {
   "display_name": "Python 3",
   "language": "python",
   "name": "python3"
  },
  "language_info": {
   "codemirror_mode": {
    "name": "ipython",
    "version": 3
   },
   "file_extension": ".py",
   "mimetype": "text/x-python",
   "name": "python",
   "nbconvert_exporter": "python",
   "pygments_lexer": "ipython3",
   "version": "3.10.8"
  }
 },
 "nbformat": 4,
 "nbformat_minor": 2
}
